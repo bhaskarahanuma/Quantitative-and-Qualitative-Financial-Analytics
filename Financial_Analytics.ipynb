{
  "nbformat": 4,
  "nbformat_minor": 0,
  "metadata": {
    "colab": {
      "provenance": [],
      "collapsed_sections": [],
      "include_colab_link": true
    },
    "kernelspec": {
      "name": "python3",
      "display_name": "Python 3"
    },
    "language_info": {
      "name": "python"
    }
  },
  "cells": [
    {
      "cell_type": "markdown",
      "metadata": {
        "id": "view-in-github",
        "colab_type": "text"
      },
      "source": [
        "<a href=\"https://colab.research.google.com/github/bhaskarahanuma/Quantitative-and-Qualitative-Financial-Analytics/blob/main/Financial_Analytics.ipynb\" target=\"_parent\"><img src=\"https://colab.research.google.com/assets/colab-badge.svg\" alt=\"Open In Colab\"/></a>"
      ]
    },
    {
      "cell_type": "code",
      "metadata": {
        "colab": {
          "base_uri": "https://localhost:8080/"
        },
        "id": "CLZhOIimr4LF",
        "outputId": "60c85767-352f-411b-d40d-4749716c0940"
      },
      "source": [
        "%pip install statsmodels --upgrade\n",
        "%pip install yfinance"
      ],
      "execution_count": null,
      "outputs": [
        {
          "output_type": "stream",
          "text": [
            "Requirement already up-to-date: statsmodels in /usr/local/lib/python3.7/dist-packages (0.12.2)\n",
            "Requirement already satisfied, skipping upgrade: pandas>=0.21 in /usr/local/lib/python3.7/dist-packages (from statsmodels) (1.1.5)\n",
            "Requirement already satisfied, skipping upgrade: numpy>=1.15 in /usr/local/lib/python3.7/dist-packages (from statsmodels) (1.19.5)\n",
            "Requirement already satisfied, skipping upgrade: patsy>=0.5 in /usr/local/lib/python3.7/dist-packages (from statsmodels) (0.5.1)\n",
            "Requirement already satisfied, skipping upgrade: scipy>=1.1 in /usr/local/lib/python3.7/dist-packages (from statsmodels) (1.4.1)\n",
            "Requirement already satisfied, skipping upgrade: python-dateutil>=2.7.3 in /usr/local/lib/python3.7/dist-packages (from pandas>=0.21->statsmodels) (2.8.1)\n",
            "Requirement already satisfied, skipping upgrade: pytz>=2017.2 in /usr/local/lib/python3.7/dist-packages (from pandas>=0.21->statsmodels) (2018.9)\n",
            "Requirement already satisfied, skipping upgrade: six in /usr/local/lib/python3.7/dist-packages (from patsy>=0.5->statsmodels) (1.15.0)\n",
            "Requirement already satisfied: yfinance in /usr/local/lib/python3.7/dist-packages (0.1.59)\n",
            "Requirement already satisfied: numpy>=1.15 in /usr/local/lib/python3.7/dist-packages (from yfinance) (1.19.5)\n",
            "Requirement already satisfied: pandas>=0.24 in /usr/local/lib/python3.7/dist-packages (from yfinance) (1.1.5)\n",
            "Requirement already satisfied: multitasking>=0.0.7 in /usr/local/lib/python3.7/dist-packages (from yfinance) (0.0.9)\n",
            "Requirement already satisfied: requests>=2.20 in /usr/local/lib/python3.7/dist-packages (from yfinance) (2.23.0)\n",
            "Requirement already satisfied: lxml>=4.5.1 in /usr/local/lib/python3.7/dist-packages (from yfinance) (4.6.3)\n",
            "Requirement already satisfied: pytz>=2017.2 in /usr/local/lib/python3.7/dist-packages (from pandas>=0.24->yfinance) (2018.9)\n",
            "Requirement already satisfied: python-dateutil>=2.7.3 in /usr/local/lib/python3.7/dist-packages (from pandas>=0.24->yfinance) (2.8.1)\n",
            "Requirement already satisfied: urllib3!=1.25.0,!=1.25.1,<1.26,>=1.21.1 in /usr/local/lib/python3.7/dist-packages (from requests>=2.20->yfinance) (1.24.3)\n",
            "Requirement already satisfied: chardet<4,>=3.0.2 in /usr/local/lib/python3.7/dist-packages (from requests>=2.20->yfinance) (3.0.4)\n",
            "Requirement already satisfied: idna<3,>=2.5 in /usr/local/lib/python3.7/dist-packages (from requests>=2.20->yfinance) (2.10)\n",
            "Requirement already satisfied: certifi>=2017.4.17 in /usr/local/lib/python3.7/dist-packages (from requests>=2.20->yfinance) (2021.5.30)\n",
            "Requirement already satisfied: six>=1.5 in /usr/local/lib/python3.7/dist-packages (from python-dateutil>=2.7.3->pandas>=0.24->yfinance) (1.15.0)\n"
          ],
          "name": "stdout"
        }
      ]
    },
    {
      "cell_type": "code",
      "metadata": {
        "id": "BZ3TPmvwHI92"
      },
      "source": [],
      "execution_count": null,
      "outputs": []
    },
    {
      "cell_type": "markdown",
      "metadata": {
        "id": "ip-Ed8fvSZ9P"
      },
      "source": [
        "# **Importing Packages**"
      ]
    },
    {
      "cell_type": "code",
      "metadata": {
        "id": "ldELEcaOjt9V"
      },
      "source": [
        "import numpy as np\n",
        "import pandas as pd\n",
        "import matplotlib.pyplot as plt\n",
        "from pandas_datareader import data as pdr\n",
        "import yfinance as yf\n",
        "from matplotlib import pyplot\n",
        "from pandas.plotting import autocorrelation_plot\n",
        "from pandas.plotting import lag_plot\n",
        "from matplotlib import pyplot\n",
        "from statsmodels.tsa.ar_model import AutoReg\n",
        "from sklearn.metrics import mean_squared_error\n",
        "from math import sqrt\n",
        "import numpy.random as nrand\n",
        "import pandas_datareader.data as wb\n",
        "import scipy.optimize as sco\n",
        "import seaborn as sns\n",
        "import datetime"
      ],
      "execution_count": null,
      "outputs": []
    },
    {
      "cell_type": "markdown",
      "metadata": {
        "id": "nj0W4cRNtQ0Z"
      },
      "source": [
        "# **Cash Conversion Cycle:DSO,DPO,DIO**\n",
        "Cash conversion cycle can be defined as time required for a comapny to convert its assets into cash.\n"
      ]
    },
    {
      "cell_type": "code",
      "metadata": {
        "id": "qv4MKFcGnROp"
      },
      "source": [
        "def dio(average_inventory,cost_of_goods_sold):\n",
        "  return (average_inventory/cost_of_goods_sold)*365\n",
        "def dso(recievables,credit_sales):\n",
        "  return(recievables/credit_sales)*365\n",
        "def dpo(accounts_payable,cost_of_goods_sold):\n",
        "  return(accounts_payable/cost_of_goods_sold)*365\n",
        "def ccc(dio,dso,dpo):\n",
        "  return dio+dso-dpo"
      ],
      "execution_count": null,
      "outputs": []
    },
    {
      "cell_type": "markdown",
      "metadata": {
        "id": "nOro2ZB6l4fR"
      },
      "source": [
        "# **Simple and Compund interests**\n",
        " Its fascinating that no package gives these functions.\n",
        "These can be further developed by extending the calculations of compund interest anualy and quarterly."
      ]
    },
    {
      "cell_type": "code",
      "metadata": {
        "id": "yjvcQKcWkPfe"
      },
      "source": [
        "def s_and_c(principal_amount,total_time,interest_rate):\n",
        "  principal = float(principal_amount)\n",
        "  time = float(total_time)\n",
        "  rate = float(interest_rate)\n",
        "\n",
        "  simple_interest = (principal*time*rate)/100\n",
        "  compound_interest = principal * ( (1+rate/100)**time - 1)\n",
        "\n",
        "  print('Simple interest is: %f' % (simple_interest))\n",
        "  print('Compound interest is: %f' %(compound_interest))\n",
        "#s_and_c(10000,2,3)\n",
        "\n"
      ],
      "execution_count": null,
      "outputs": []
    },
    {
      "cell_type": "markdown",
      "metadata": {
        "id": "Kl059lHBAxvD"
      },
      "source": [
        "# **ACF**, **MA**, **LAG**"
      ]
    },
    {
      "cell_type": "code",
      "metadata": {
        "id": "mtk_2dTjA6kb",
        "colab": {
          "base_uri": "https://localhost:8080/",
          "height": 752
        },
        "outputId": "72ec2f7d-accc-4a72-fb52-366987965ea7"
      },
      "source": [
        "\n",
        "def acf_plot(org,start,end):\n",
        "  df=data_download(org,start,end)\n",
        "  \n",
        "  series = df['Close']\n",
        "  \n",
        "  autocorrelation_plot(series)\n",
        "  \n",
        "  \n",
        "  pyplot.show()\n",
        "\n",
        "df=data_download(\"MSFT\",\"2018-02-02\",\"2019-01-01\")\n",
        "  \n",
        "series = df['Close']\n",
        "plt.figure(figsize=[10,5])\n",
        "plt.grid(True)\n",
        "plt.plot(series,label='close')\n",
        "plt.legend()\n",
        "\n",
        "def moving_average(org,start,end,window):\n",
        "    df = data_download(org,start,end)\n",
        "    adj_close_px = df['Adj Close']\n",
        "    moving_avg = adj_close_px.rolling(window=window).mean()\n",
        "    plt.figure(figsize=[10,5])\n",
        "    plt.grid(True)\n",
        "    plt.plot(moving_avg,label='moving averages')\n",
        "    plt.legend()\n",
        "    return moving_avg\n",
        "\n",
        "def lag(org,start,end):\n",
        "    df = data_download(org,start,end)\n",
        "    series = df['Close']\n",
        "    lag_plot(series)\n",
        "    pyplot.show()\n",
        "moving_average(\"MSFT\",\"2018-02-02\",\"2019-01-01\",10)\n",
        "acf_plot(\"MSFT\",\"2018-02-02\",\"2019-01-01\")"
      ],
      "execution_count": null,
      "outputs": [
        {
          "output_type": "stream",
          "text": [
            "[*********************100%***********************]  1 of 1 completed\n",
            "[*********************100%***********************]  1 of 1 completed\n",
            "[*********************100%***********************]  1 of 1 completed\n"
          ],
          "name": "stdout"
        },
        {
          "output_type": "stream",
          "text": [
            "/usr/local/lib/python3.7/dist-packages/pandas/plotting/_matplotlib/misc.py:411: UserWarning: Requested projection is different from current axis projection, creating new axis with requested projection.\n",
            "  ax = plt.gca(xlim=(1, n), ylim=(-1.0, 1.0))\n"
          ],
          "name": "stderr"
        },
        {
          "output_type": "display_data",
          "data": {
            "image/png": "[encoded data removed]",
            "text/plain": [
              "<Figure size 720x360 with 1 Axes>"
            ]
          },
          "metadata": {
            "tags": [],
            "needs_background": "light"
          }
        },
        {
          "output_type": "display_data",
          "data": {
            "image/png": "[encoded data removed]",
            "text/plain": [
              "<Figure size 720x360 with 2 Axes>"
            ]
          },
          "metadata": {
            "tags": [],
            "needs_background": "light"
          }
        }
      ]
    },
    {
      "cell_type": "markdown",
      "metadata": {
        "id": "bBT0WD2qLS-u"
      },
      "source": [
        "# **Auto Regression Model**"
      ]
    },
    {
      "cell_type": "code",
      "metadata": {
        "colab": {
          "base_uri": "https://localhost:8080/",
          "height": 1000
        },
        "id": "EcdKTsH5Cz3C",
        "outputId": "115d4de5-134e-443d-ed11-a874247cad19"
      },
      "source": [
        "def armodel(org,start,end,window):\n",
        "    df = data_download(org,start,end)\n",
        "    series = df['Adj Close']\n",
        "    X = series.values\n",
        "    train, test = X[1:len(X) - 100], X[len(X) - 60:]\n",
        "    # train autoregression\n",
        "    model = AutoReg(train, lags=100)\n",
        "    model_fit = model.fit()\n",
        "    coef = model_fit.params\n",
        "    # walk forward over time steps in test\n",
        "    history = train[len(train) - window:]\n",
        "    history = [history[i] for i in range(len(history))]\n",
        "    predictions = list()\n",
        "    for t in range(len(test)):\n",
        "        length = len(history)\n",
        "        lag = [history[i] for i in range(length - window, length)]\n",
        "        yhat = coef[0]\n",
        "        for d in range(window):\n",
        "            yhat += coef[d + 1] * lag[window - d - 1]\n",
        "        obs = test[t]\n",
        "        predictions.append(yhat)\n",
        "        history.append(obs)\n",
        "        print('predicted=%f, expected=%f' % (yhat, obs))\n",
        "    rmse = sqrt(mean_squared_error(test, predictions))\n",
        "    print('Test RMSE: %.3f' % rmse)\n",
        "    plt.plot(test,color='green',label=\"Time\")\n",
        "    #pyplot.plot(test)\n",
        "    #pyplot.plot(predictions, color='green',label=\"Time\")\n",
        "    #pyplot.show()\n",
        "    plt.xlabel(\"Time\")\n",
        "    plt.legend()\n",
        "armodel(\"MSFT\",\"2016-02-02\",\"2020-02-02\",3)"
      ],
      "execution_count": null,
      "outputs": [
        {
          "output_type": "stream",
          "text": [
            "\r[*********************100%***********************]  1 of 1 completed\n",
            "predicted=140.366757, expected=141.806152\n",
            "predicted=145.876428, expected=141.413467\n",
            "predicted=145.332654, expected=141.609802\n",
            "predicted=146.769789, expected=143.278595\n",
            "predicted=148.095044, expected=143.425797\n",
            "predicted=148.273583, expected=144.368195\n",
            "predicted=149.376812, expected=144.603790\n",
            "predicted=149.612055, expected=145.339981\n",
            "predicted=150.407500, expected=147.214905\n",
            "predicted=152.029058, expected=147.578125\n",
            "predicted=152.491891, expected=147.627197\n",
            "predicted=152.888496, expected=147.371078\n",
            "predicted=152.742777, expected=147.233200\n",
            "predicted=152.633736, expected=147.341553\n",
            "predicted=152.674875, expected=148.956894\n",
            "predicted=154.002187, expected=149.744873\n",
            "predicted=154.699935, expected=150.030518\n",
            "predicted=155.250590, expected=149.104645\n",
            "predicted=154.626580, expected=147.302139\n",
            "predicted=153.161245, expected=147.065750\n",
            "predicted=152.769807, expected=147.597626\n",
            "predicted=152.874411, expected=147.676453\n",
            "predicted=152.901974, expected=149.469101\n",
            "predicted=154.502917, expected=149.084946\n",
            "predicted=154.216083, expected=148.858414\n",
            "predicted=154.358297, expected=149.419830\n",
            "predicted=154.753639, expected=150.936691\n",
            "predicted=155.986939, expected=152.207291\n",
            "predicted=157.172460, expected=153.192261\n",
            "predicted=158.295312, expected=152.364883\n",
            "predicted=157.851981, expected=152.049698\n",
            "predicted=157.763657, expected=153.369568\n",
            "predicted=158.709708, expected=155.044037\n",
            "predicted=160.066720, expected=155.044037\n",
            "predicted=160.332755, expected=155.014450\n",
            "predicted=160.621913, expected=156.285065\n",
            "predicted=161.685024, expected=156.570709\n",
            "predicted=161.932656, expected=155.221313\n",
            "predicted=161.044660, expected=155.329636\n",
            "predicted=161.173888, expected=158.205765\n",
            "predicted=163.329286, expected=156.235825\n",
            "predicted=161.732791, expected=156.639694\n",
            "predicted=162.588136, expected=155.211456\n",
            "predicted=161.027945, expected=157.683731\n",
            "predicted=163.156968, expected=159.653641\n",
            "predicted=164.565376, expected=158.914932\n",
            "predicted=164.432477, expected=160.825775\n",
            "predicted=166.392860, expected=159.693054\n",
            "predicted=165.327560, expected=160.727264\n",
            "predicted=166.538797, expected=163.672348\n",
            "predicted=168.802809, expected=164.588379\n",
            "predicted=169.796070, expected=163.997375\n",
            "predicted=169.863730, expected=163.209412\n",
            "predicted=169.369415, expected=164.214081\n",
            "predicted=170.090724, expected=162.559326\n",
            "predicted=168.569212, expected=159.840805\n",
            "predicted=166.463924, expected=162.973038\n",
            "predicted=168.745032, expected=165.514221\n",
            "predicted=170.396999, expected=170.182999\n",
            "predicted=174.919958, expected=167.671310\n",
            "Test RMSE: 5.056\n"
          ],
          "name": "stdout"
        },
        {
          "output_type": "stream",
          "text": [
            "/usr/local/lib/python3.7/dist-packages/statsmodels/tsa/ar_model.py:252: FutureWarning: The parameter names will change after 0.12 is released. Set old_names to False to use the new names now. Set old_names to True to use the old names. \n",
            "  FutureWarning,\n"
          ],
          "name": "stderr"
        },
        {
          "output_type": "display_data",
          "data": {
            "image/png": "[encoded data removed]",
            "text/plain": [
              "<Figure size 432x288 with 1 Axes>"
            ]
          },
          "metadata": {
            "tags": [],
            "needs_background": "light"
          }
        }
      ]
    },
    {
      "cell_type": "markdown",
      "metadata": {
        "id": "ajQau7OnjIm1"
      },
      "source": [
        "# **Internal Rate of Return: Automation**\n",
        "With number of intervals and initial investment this function returns Internal rate of return which can be used for further analysis.\n",
        "A financial rule states that if IRR is greater than minimum required return then action over that project/organisation/stock can be pursued.\n",
        "Though IRR alone cannot be used to judge the value."
      ]
    },
    {
      "cell_type": "code",
      "metadata": {
        "id": "K1V8E83Xa1iC",
        "colab": {
          "base_uri": "https://localhost:8080/"
        },
        "outputId": "1c32a27e-9096-4af6-ef65-34ae27dc79da"
      },
      "source": [
        "def internal_rate_return(number_of_intervals,investment):\n",
        "  number=number_of_intervals\n",
        "  invest=investment\n",
        "  withdrawls=[]\n",
        "  for i in range(number):\n",
        "    x=int(input(\"Please enter the withdrawl for interval %d\"%i))\n",
        "    withdrawls.append(x)\n",
        "  withdrawls.insert(0,-investment)\n",
        "  returns=np.irr(withdrawls)\n",
        "  print(returns)\n",
        "\n",
        "  \n",
        "internal_rate_return(\n",
        "    3,500)\n",
        "  \n"
      ],
      "execution_count": null,
      "outputs": [
        {
          "output_type": "stream",
          "text": [
            "Please enter the withdrawl for interval 010\n",
            "Please enter the withdrawl for interval 1100\n",
            "Please enter the withdrawl for interval 21000\n",
            "0.31977480705344963\n"
          ],
          "name": "stdout"
        },
        {
          "output_type": "stream",
          "text": [
            "/usr/local/lib/python3.7/dist-packages/ipykernel_launcher.py:9: DeprecationWarning: numpy.irr is deprecated and will be removed from NumPy 1.20. Use numpy_financial.irr instead (https://pypi.org/project/numpy-financial/).\n",
            "  if __name__ == '__main__':\n"
          ],
          "name": "stderr"
        }
      ]
    },
    {
      "cell_type": "markdown",
      "metadata": {
        "id": "k2_gitLtZlCD"
      },
      "source": [
        "# **Net Present Value: Calculation and Anaysis**.\n",
        "Here we pass number of cashflows needed and discount rate.\n",
        "A Value i.e., Net Present Value is given as output with some analytical statement."
      ]
    },
    {
      "cell_type": "code",
      "metadata": {
        "id": "g4HPI5B4ULrN"
      },
      "source": [
        "def net_pv(number,discount_rate):\n",
        "  number_of_cashflows=number\n",
        "  cashflow_set=[]\n",
        "  for i in range(number):\n",
        "    x=int(input(\"Please enter the cashflows for time %d\"%i))\n",
        "    cashflow_set.append(x)\n",
        "  rate=discount_rate\n",
        "  Net_Present_Value=np.npv(rate,cashflow_set)\n",
        "  print(\"Net present value for the investment is %d\"%Net_Present_Value)\n",
        "  if(Net_Present_Value<0):\n",
        "    print(\"Project is expected to result in a net loss for the company\")\n",
        "  elif(Net_Present_Value==0):\n",
        "    print(\"Project is expected to result in a neutral mode for the company\")\n",
        "  else:\n",
        "    print(\"Project is expected to result in a net gain for the company\")"
      ],
      "execution_count": null,
      "outputs": []
    },
    {
      "cell_type": "markdown",
      "metadata": {
        "id": "TlzOBCLutqE7"
      },
      "source": [
        "# **Volatility :**\n",
        "Volatility measures the stability of a company.\n",
        "Stock of a company should be less volatile in nature.\n",
        "\n",
        "---\n",
        "\n",
        "\n",
        "Input to pass here is comapny code and we can get volatility values and a graph representing it\n"
      ]
    },
    {
      "cell_type": "code",
      "metadata": {
        "id": "bQHyh19ituIZ",
        "colab": {
          "base_uri": "https://localhost:8080/",
          "height": 822
        },
        "outputId": "783ec324-2faa-4678-bc4c-db53ab459553"
      },
      "source": [
        "def volatility(org,start_date,end_date):\n",
        "  data = data_download(org,start=start_date,end=end_date)\n",
        "  data['Log_Ret'] = np.log(data['Close'] / data['Close'].shift(1))\n",
        "  data['Volatility'] = data['Log_Ret'].rolling(window=252).std() * np.sqrt(252)\n",
        "  data[['Close', 'Volatility']].plot(subplots=True, color='blue',figsize=(10, 6))\n",
        "  return data\n",
        "volatility(\"GOOG\",\"2016-02-02\",\"2021-02-02\")\n",
        "\n",
        "\n"
      ],
      "execution_count": null,
      "outputs": [
        {
          "output_type": "stream",
          "text": [
            "\r[*********************100%***********************]  1 of 1 completed\n"
          ],
          "name": "stdout"
        },
        {
          "output_type": "execute_result",
          "data": {
            "text/html": [
              "<div>\n",
              "<style scoped>\n",
              "    .dataframe tbody tr th:only-of-type {\n",
              "        vertical-align: middle;\n",
              "    }\n",
              "\n",
              "    .dataframe tbody tr th {\n",
              "        vertical-align: top;\n",
              "    }\n",
              "\n",
              "    .dataframe thead th {\n",
              "        text-align: right;\n",
              "    }\n",
              "</style>\n",
              "<table border=\"1\" class=\"dataframe\">\n",
              "  <thead>\n",
              "    <tr style=\"text-align: right;\">\n",
              "      <th></th>\n",
              "      <th>Open</th>\n",
              "      <th>High</th>\n",
              "      <th>Low</th>\n",
              "      <th>Close</th>\n",
              "      <th>Adj Close</th>\n",
              "      <th>Volume</th>\n",
              "      <th>Log_Ret</th>\n",
              "      <th>Volatility</th>\n",
              "    </tr>\n",
              "    <tr>\n",
              "      <th>Date</th>\n",
              "      <th></th>\n",
              "      <th></th>\n",
              "      <th></th>\n",
              "      <th></th>\n",
              "      <th></th>\n",
              "      <th></th>\n",
              "      <th></th>\n",
              "      <th></th>\n",
              "    </tr>\n",
              "  </thead>\n",
              "  <tbody>\n",
              "    <tr>\n",
              "      <th>2016-02-02</th>\n",
              "      <td>784.500000</td>\n",
              "      <td>789.869995</td>\n",
              "      <td>764.650024</td>\n",
              "      <td>764.650024</td>\n",
              "      <td>764.650024</td>\n",
              "      <td>6348100</td>\n",
              "      <td>NaN</td>\n",
              "      <td>NaN</td>\n",
              "    </tr>\n",
              "    <tr>\n",
              "      <th>2016-02-03</th>\n",
              "      <td>770.219971</td>\n",
              "      <td>774.500000</td>\n",
              "      <td>720.500000</td>\n",
              "      <td>726.950012</td>\n",
              "      <td>726.950012</td>\n",
              "      <td>6171000</td>\n",
              "      <td>-0.050561</td>\n",
              "      <td>NaN</td>\n",
              "    </tr>\n",
              "    <tr>\n",
              "      <th>2016-02-04</th>\n",
              "      <td>722.809998</td>\n",
              "      <td>727.000000</td>\n",
              "      <td>701.859985</td>\n",
              "      <td>708.010010</td>\n",
              "      <td>708.010010</td>\n",
              "      <td>5168700</td>\n",
              "      <td>-0.026399</td>\n",
              "      <td>NaN</td>\n",
              "    </tr>\n",
              "    <tr>\n",
              "      <th>2016-02-05</th>\n",
              "      <td>703.869995</td>\n",
              "      <td>703.989990</td>\n",
              "      <td>680.150024</td>\n",
              "      <td>683.570007</td>\n",
              "      <td>683.570007</td>\n",
              "      <td>5105700</td>\n",
              "      <td>-0.035129</td>\n",
              "      <td>NaN</td>\n",
              "    </tr>\n",
              "    <tr>\n",
              "      <th>2016-02-08</th>\n",
              "      <td>667.849976</td>\n",
              "      <td>684.030029</td>\n",
              "      <td>663.059998</td>\n",
              "      <td>682.739990</td>\n",
              "      <td>682.739990</td>\n",
              "      <td>4247400</td>\n",
              "      <td>-0.001215</td>\n",
              "      <td>NaN</td>\n",
              "    </tr>\n",
              "    <tr>\n",
              "      <th>...</th>\n",
              "      <td>...</td>\n",
              "      <td>...</td>\n",
              "      <td>...</td>\n",
              "      <td>...</td>\n",
              "      <td>...</td>\n",
              "      <td>...</td>\n",
              "      <td>...</td>\n",
              "      <td>...</td>\n",
              "    </tr>\n",
              "    <tr>\n",
              "      <th>2021-01-26</th>\n",
              "      <td>1888.839966</td>\n",
              "      <td>1925.000000</td>\n",
              "      <td>1884.244995</td>\n",
              "      <td>1917.239990</td>\n",
              "      <td>1917.239990</td>\n",
              "      <td>1313100</td>\n",
              "      <td>0.009349</td>\n",
              "      <td>0.389200</td>\n",
              "    </tr>\n",
              "    <tr>\n",
              "      <th>2021-01-27</th>\n",
              "      <td>1882.530029</td>\n",
              "      <td>1890.000000</td>\n",
              "      <td>1809.000000</td>\n",
              "      <td>1830.790039</td>\n",
              "      <td>1830.790039</td>\n",
              "      <td>2748300</td>\n",
              "      <td>-0.046139</td>\n",
              "      <td>0.391879</td>\n",
              "    </tr>\n",
              "    <tr>\n",
              "      <th>2021-01-28</th>\n",
              "      <td>1843.939941</td>\n",
              "      <td>1898.829956</td>\n",
              "      <td>1842.640015</td>\n",
              "      <td>1863.109985</td>\n",
              "      <td>1863.109985</td>\n",
              "      <td>1773100</td>\n",
              "      <td>0.017500</td>\n",
              "      <td>0.392217</td>\n",
              "    </tr>\n",
              "    <tr>\n",
              "      <th>2021-01-29</th>\n",
              "      <td>1846.170044</td>\n",
              "      <td>1857.280029</td>\n",
              "      <td>1810.199951</td>\n",
              "      <td>1835.739990</td>\n",
              "      <td>1835.739990</td>\n",
              "      <td>1612600</td>\n",
              "      <td>-0.014799</td>\n",
              "      <td>0.392523</td>\n",
              "    </tr>\n",
              "    <tr>\n",
              "      <th>2021-02-01</th>\n",
              "      <td>1853.569946</td>\n",
              "      <td>1922.391968</td>\n",
              "      <td>1850.930054</td>\n",
              "      <td>1901.349976</td>\n",
              "      <td>1901.349976</td>\n",
              "      <td>1602200</td>\n",
              "      <td>0.035116</td>\n",
              "      <td>0.393682</td>\n",
              "    </tr>\n",
              "  </tbody>\n",
              "</table>\n",
              "<p>1259 rows × 8 columns</p>\n",
              "</div>"
            ],
            "text/plain": [
              "                   Open         High  ...   Log_Ret  Volatility\n",
              "Date                                  ...                      \n",
              "2016-02-02   784.500000   789.869995  ...       NaN         NaN\n",
              "2016-02-03   770.219971   774.500000  ... -0.050561         NaN\n",
              "2016-02-04   722.809998   727.000000  ... -0.026399         NaN\n",
              "2016-02-05   703.869995   703.989990  ... -0.035129         NaN\n",
              "2016-02-08   667.849976   684.030029  ... -0.001215         NaN\n",
              "...                 ...          ...  ...       ...         ...\n",
              "2021-01-26  1888.839966  1925.000000  ...  0.009349    0.389200\n",
              "2021-01-27  1882.530029  1890.000000  ... -0.046139    0.391879\n",
              "2021-01-28  1843.939941  1898.829956  ...  0.017500    0.392217\n",
              "2021-01-29  1846.170044  1857.280029  ... -0.014799    0.392523\n",
              "2021-02-01  1853.569946  1922.391968  ...  0.035116    0.393682\n",
              "\n",
              "[1259 rows x 8 columns]"
            ]
          },
          "metadata": {
            "tags": []
          },
          "execution_count": 8
        },
        {
          "output_type": "display_data",
          "data": {
            "image/png": "[encoded data removed]",
            "text/plain": [
              "<Figure size 720x432 with 2 Axes>"
            ]
          },
          "metadata": {
            "tags": [],
            "needs_background": "light"
          }
        }
      ]
    },
    {
      "cell_type": "markdown",
      "metadata": {
        "id": "Q7wywGxH-fe4"
      },
      "source": [
        "# **Spread**\n",
        "\n",
        "Calculates spread"
      ]
    },
    {
      "cell_type": "code",
      "metadata": {
        "id": "wDbem9sU-cQL",
        "colab": {
          "base_uri": "https://localhost:8080/"
        },
        "outputId": "ac3f7a85-21c3-4078-a574-f736e5a97316"
      },
      "source": [
        "def spread(org,start_date,end_date):\n",
        "    df = data_download(org, start=start_date, end=end_date)\n",
        "    col1 = df['High']\n",
        "    col2 = df['Low']\n",
        "    spread = []\n",
        "    for i in range(len(col1)):\n",
        "        s = col1[i] - col2[i]\n",
        "        spread.append(s)\n",
        "    print(\"spread is:\", spread)\n",
        "spread(\"GOOG\",\"2016-02-02\",\"2019-02-02\")"
      ],
      "execution_count": null,
      "outputs": [
        {
          "output_type": "stream",
          "text": [
            "\r[*********************100%***********************]  1 of 1 completed\n",
            "spread is: [25.219970703125, 54.0, 25.1400146484375, 23.8399658203125, 20.97003173828125, 31.1300048828125, 19.17999267578125, 20.48199462890625, 15.1500244140625, 12.95001220703125, 18.3699951171875, 16.3199462890625, 9.031005859375, 10.72998046875, 14.82000732421875, 19.219970703125, 15.39495849609375, 12.57000732421875, 13.21002197265625, 19.03997802734375, 8.0, 13.42999267578125, 10.469970703125, 21.19097900390625, 18.449951171875, 11.67999267578125, 13.08001708984375, 9.79498291015625, 10.3499755859375, 7.51995849609375, 12.9599609375, 7.07000732421875, 10.16998291015625, 8.9840087890625, 7.53997802734375, 9.5699462890625, 6.74700927734375, 6.489990234375, 18.489990234375, 9.1400146484375, 9.90997314453125, 13.34002685546875, 10.3699951171875, 7.42999267578125, 10.67999267578125, 10.719970703125, 9.9000244140625, 8.95001220703125, 12.82000732421875, 10.1190185546875, 4.60498046875, 8.3060302734375, 10.75, 20.57000732421875, 8.12200927734375, 10.9000244140625, 22.510009765625, 8.3399658203125, 22.739990234375, 16.614990234375, 24.6199951171875, 8.6199951171875, 9.6400146484375, 5.84002685546875, 10.739990234375, 6.60003662109375, 13.75299072265625, 8.71002197265625, 7.780029296875, 11.67999267578125, 10.25, 7.4019775390625, 12.8299560546875, 17.4100341796875, 10.969970703125, 9.20001220703125, 14.05999755859375, 7.29803466796875, 14.1099853515625, 7.80499267578125, 8.04998779296875, 9.93597412109375, 8.469970703125, 6.550048828125, 8.85003662109375, 8.92999267578125, 10.29998779296875, 5.42999267578125, 7.989990234375, 7.2039794921875, 9.46002197265625, 8.92999267578125, 9.3499755859375, 5.66998291015625, 13.3900146484375, 20.36798095703125, 9.07000732421875, 10.760009765625, 7.77801513671875, 14.95001220703125, 15.95001220703125, 9.0159912109375, 7.33001708984375, 6.01904296875, 8.66998291015625, 8.52001953125, 8.05999755859375, 12.5899658203125, 9.9849853515625, 9.2750244140625, 9.27001953125, 7.030029296875, 7.1500244140625, 4.17999267578125, 6.68499755859375, 14.94000244140625, 7.989990234375, 5.030029296875, 5.8590087890625, 6.67999267578125, 5.1099853515625, 7.41998291015625, 7.46002197265625, 9.35003662109375, 11.77996826171875, 19.3399658203125, 7.99005126953125, 6.3900146484375, 5.2750244140625, 10.699951171875, 4.53900146484375, 8.3699951171875, 4.03399658203125, 6.780029296875, 2.9949951171875, 7.3800048828125, 7.5360107421875, 7.27996826171875, 5.8599853515625, 3.969970703125, 4.489990234375, 4.655029296875, 7.42999267578125, 8.70501708984375, 10.23004150390625, 8.375, 7.6259765625, 3.71002197265625, 6.72003173828125, 5.510009765625, 11.0, 6.52996826171875, 6.76995849609375, 13.58502197265625, 16.28997802734375, 10.41998291015625, 8.57000732421875, 13.8399658203125, 5.09002685546875, 9.55902099609375, 4.79998779296875, 8.85894775390625, 11.40997314453125, 4.77996826171875, 9.66998291015625, 11.6820068359375, 6.84002685546875, 11.5679931640625, 6.8499755859375, 6.56500244140625, 5.82000732421875, 6.41998291015625, 4.94000244140625, 8.90997314453125, 13.510009765625, 11.70001220703125, 6.07000732421875, 8.219970703125, 7.95001220703125, 8.3499755859375, 16.04498291015625, 6.5699462890625, 7.93994140625, 5.5, 10.3599853515625, 11.53997802734375, 10.65997314453125, 11.989990234375, 21.89996337890625, 12.8599853515625, 13.95001220703125, 18.20001220703125, 10.91998291015625, 19.79901123046875, 12.6400146484375, 15.4429931640625, 19.5570068359375, 38.989990234375, 10.4000244140625, 30.30999755859375, 17.446044921875, 15.8499755859375, 8.47003173828125, 15.0, 9.10003662109375, 9.96002197265625, 13.03302001953125, 4.47998046875, 19.73004150390625, 10.260009765625, 18.15997314453125, 22.824951171875, 10.9000244140625, 11.0, 11.489990234375, 15.55999755859375, 10.95001220703125, 10.40899658203125, 6.89501953125, 11.03997802734375, 9.989990234375, 10.08001708984375, 10.5660400390625, 11.38995361328125, 5.3800048828125, 9.5760498046875, 4.739990234375, 5.4599609375, 10.2030029296875, 11.02996826171875, 7.010009765625, 12.37005615234375, 13.83001708984375, 8.1800537109375, 9.4599609375, 15.696044921875, 7.135986328125, 5.6199951171875, 6.780029296875, 8.22003173828125, 4.53399658203125, 6.77001953125, 5.21502685546875, 7.67999267578125, 5.219970703125, 17.1300048828125, 8.07904052734375, 10.71002197265625, 10.989990234375, 21.510009765625, 16.0400390625, 10.72998046875, 10.0, 10.70001220703125, 5.6300048828125, 6.41998291015625, 8.719970703125, 8.6500244140625, 6.1199951171875, 5.469970703125, 5.468994140625, 7.0, 4.530029296875, 5.4200439453125, 6.41497802734375, 5.10003662109375, 4.6099853515625, 9.58001708984375, 4.79998779296875, 6.5, 8.3399658203125, 8.9949951171875, 4.8699951171875, 5.6090087890625, 6.47998046875, 6.88995361328125, 6.36004638671875, 7.78997802734375, 5.40997314453125, 5.43499755859375, 6.44000244140625, 7.8599853515625, 4.719970703125, 6.2900390625, 5.0699462890625, 24.47998046875, 8.3699951171875, 10.31298828125, 13.03997802734375, 18.260009765625, 11.9630126953125, 10.385009765625, 4.67999267578125, 4.25, 11.6300048828125, 6.14398193359375, 11.73004150390625, 9.92999267578125, 7.97198486328125, 5.5799560546875, 10.406982421875, 5.63995361328125, 4.94000244140625, 13.280029296875, 6.219970703125, 5.92999267578125, 5.8800048828125, 3.280029296875, 13.59002685546875, 12.19000244140625, 8.302001953125, 5.02001953125, 11.0799560546875, 14.22998046875, 11.3170166015625, 15.55694580078125, 11.3399658203125, 9.70001220703125, 11.66497802734375, 7.969970703125, 6.84002685546875, 9.5, 5.59002685546875, 8.90997314453125, 5.52996826171875, 21.1929931640625, 14.41998291015625, 6.7550048828125, 6.88299560546875, 8.8919677734375, 5.59002685546875, 17.1590576171875, 9.949951171875, 6.71002197265625, 19.09002685546875, 11.489990234375, 9.8800048828125, 11.80999755859375, 13.1099853515625, 8.03997802734375, 7.3699951171875, 48.8699951171875, 34.12200927734375, 15.88995361328125, 18.9000244140625, 18.89898681640625, 10.44500732421875, 10.94000244140625, 11.6099853515625, 9.3399658203125, 6.16998291015625, 11.79998779296875, 22.52001953125, 21.44000244140625, 26.75, 20.6400146484375, 17.739990234375, 19.1500244140625, 16.010009765625, 15.24395751953125, 12.69000244140625, 10.78997802734375, 9.42999267578125, 11.83001708984375, 11.44000244140625, 8.90496826171875, 11.49896240234375, 17.44000244140625, 9.00994873046875, 14.3900146484375, 13.0799560546875, 15.42999267578125, 14.29998779296875, 12.72100830078125, 31.780029296875, 16.33001708984375, 17.550048828125, 8.18701171875, 15.91998291015625, 10.0, 7.2769775390625, 5.20001220703125, 10.20404052734375, 8.72998046875, 13.1300048828125, 12.20001220703125, 6.47802734375, 6.72998046875, 9.2550048828125, 15.8800048828125, 8.12103271484375, 9.5999755859375, 14.385009765625, 10.57000732421875, 15.34002685546875, 10.05499267578125, 7.375, 18.33001708984375, 11.1689453125, 10.219970703125, 7.3299560546875, 15.03997802734375, 11.64495849609375, 12.78997802734375, 12.1099853515625, 11.46002197265625, 9.61895751953125, 7.3900146484375, 8.77001953125, 10.1300048828125, 11.48004150390625, 9.8699951171875, 11.8800048828125, 12.70001220703125, 8.25, 16.70001220703125, 9.67999267578125, 22.1600341796875, 10.1400146484375, 8.2760009765625, 14.699951171875, 8.8599853515625, 9.70001220703125, 15.72998046875, 16.10003662109375, 9.31500244140625, 15.489990234375, 18.46002197265625, 9.1199951171875, 8.21002197265625, 9.906982421875, 7.8499755859375, 9.7449951171875, 10.489990234375, 6.41998291015625, 23.4000244140625, 11.22998046875, 15.57000732421875, 15.39996337890625, 40.19000244140625, 17.469970703125, 13.58001708984375, 12.72003173828125, 15.0799560546875, 12.34002685546875, 9.8699951171875, 8.8399658203125, 15.072021484375, 14.323974609375, 5.47998046875, 9.00994873046875, 12.6600341796875, 8.66998291015625, 13.4000244140625, 16.6700439453125, 5.1099853515625, 12.4549560546875, 8.2760009765625, 8.177978515625, 17.02001953125, 22.375, 28.429931640625, 13.489990234375, 20.469970703125, 20.52996826171875, 32.3299560546875, 23.8299560546875, 16.16900634765625, 9.528076171875, 11.75, 16.6201171875, 8.2850341796875, 15.3900146484375, 18.1199951171875, 16.489990234375, 13.2899169921875, 11.8599853515625, 7.5360107421875, 4.760009765625, 9.9200439453125, 10.3199462890625, 9.97998046875, 4.7999267578125, 21.7099609375, 23.080078125, 9.5679931640625, 12.25, 9.6500244140625, 9.3389892578125, 8.489990234375, 6.93505859375, 23.1400146484375, 22.0780029296875, 15.5899658203125, 15.010009765625, 9.5599365234375, 24.77001953125, 12.876953125, 18.8099365234375, 13.179931640625, 17.72998046875, 14.9100341796875, 13.0, 13.8699951171875, 16.47998046875, 15.7919921875, 57.969970703125, 58.57293701171875, 33.52001953125, 57.96002197265625, 51.40997314453125, 20.572021484375, 14.282958984375, 24.969970703125, 27.1390380859375, 16.3570556640625, 25.429931640625, 27.6400146484375, 20.22998046875, 22.5660400390625, 17.2650146484375, 26.0400390625, 24.2900390625, 43.1190185546875, 33.884033203125, 28.0999755859375, 12.074951171875, 26.7379150390625, 14.7999267578125, 28.3389892578125, 19.6300048828125, 43.4300537109375, 17.1500244140625, 26.5399169921875, 23.9200439453125, 32.97998046875, 21.739990234375, 21.1500244140625, 36.989990234375, 42.1400146484375, 47.22998046875, 67.91900634765625, 43.5899658203125, 40.0999755859375, 44.4300537109375, 26.91998291015625, 35.718017578125, 22.6590576171875, 28.3900146484375, 25.51995849609375, 24.94000244140625, 15.4940185546875, 19.25494384765625, 23.4400634765625, 16.5, 29.6199951171875, 11.205078125, 25.9849853515625, 22.780029296875, 22.02001953125, 46.40997314453125, 17.17999267578125, 29.78997802734375, 23.9100341796875, 20.1500244140625, 30.25994873046875, 17.51904296875, 23.38507080078125, 31.6099853515625, 14.580078125, 13.405029296875, 29.074951171875, 14.7999267578125, 10.419921875, 11.6400146484375, 16.580078125, 13.010009765625, 13.3699951171875, 9.2598876953125, 14.3499755859375, 19.9000244140625, 19.070068359375, 14.3199462890625, 8.7850341796875, 18.1500244140625, 12.3800048828125, 29.6298828125, 21.5, 19.885009765625, 12.548095703125, 17.2569580078125, 19.2999267578125, 14.52001953125, 18.6600341796875, 9.0550537109375, 13.1199951171875, 14.8299560546875, 9.93505859375, 30.7200927734375, 17.260009765625, 17.1259765625, 25.06298828125, 15.2369384765625, 31.1300048828125, 16.5509033203125, 28.216064453125, 26.300048828125, 13.22705078125, 34.199951171875, 35.7999267578125, 19.02001953125, 20.1929931640625, 11.25, 10.0, 23.2900390625, 28.4749755859375, 15.4169921875, 11.719970703125, 32.4400634765625, 14.1600341796875, 16.6800537109375, 12.6400146484375, 25.489990234375, 30.43994140625, 26.72998046875, 20.7509765625, 42.8900146484375, 23.446044921875, 21.988037109375, 23.260009765625, 25.0899658203125, 14.93994140625, 10.291015625, 15.0, 18.491943359375, 9.531982421875, 13.6949462890625, 15.6319580078125, 20.760009765625, 25.72998046875, 23.449951171875, 20.780029296875, 16.3740234375, 16.906005859375, 12.8399658203125, 17.0400390625, 15.291015625, 17.3740234375, 13.8551025390625, 14.301025390625, 21.0450439453125, 27.375, 20.489990234375, 37.010009765625, 34.300048828125, 18.0450439453125, 14.4300537109375, 22.4400634765625, 20.25, 15.760009765625, 12.0950927734375, 23.2099609375, 18.989990234375, 18.6300048828125, 16.530029296875, 26.169921875, 31.0899658203125, 18.8800048828125, 19.4649658203125, 18.469970703125, 10.9100341796875, 19.5999755859375, 23.3299560546875, 12.580078125, 41.9339599609375, 28.3800048828125, 40.635986328125, 16.7779541015625, 51.0400390625, 38.1300048828125, 28.5980224609375, 24.446044921875, 21.719970703125, 26.800048828125, 44.75, 22.6099853515625, 21.22998046875, 37.8900146484375, 57.3800048828125, 41.429931640625, 72.4400634765625, 101.21002197265625, 36.739990234375, 34.93994140625, 21.5150146484375, 28.364990234375, 37.22998046875, 26.2750244140625, 29.5599365234375, 21.0650634765625, 22.4500732421875, 31.1199951171875, 25.4549560546875, 23.56396484375, 40.0699462890625, 18.02001953125, 44.530029296875, 35.719970703125, 15.090087890625, 15.19097900390625, 15.4000244140625, 19.0899658203125, 51.0799560546875, 18.2449951171875, 17.68994140625, 20.9849853515625, 54.4400634765625, 40.429931640625, 46.760009765625, 25.15997314453125, 20.760009765625, 18.8599853515625, 25.8299560546875, 21.8099365234375, 45.25, 28.03997802734375, 53.95001220703125, 37.8599853515625, 50.33001708984375, 33.42999267578125, 57.0, 46.8900146484375, 22.4600830078125, 29.10992431640625, 36.60992431640625, 42.90997314453125, 43.4219970703125, 19.239990234375, 24.030029296875, 16.22998046875, 13.4400634765625, 15.2950439453125, 10.2750244140625, 32.7100830078125, 13.0350341796875, 18.300048828125, 17.4520263671875, 28.0400390625, 25.1800537109375, 18.7750244140625, 12.1800537109375, 19.199951171875, 19.2850341796875, 24.1500244140625, 21.919921875, 20.1099853515625]\n"
          ],
          "name": "stdout"
        }
      ]
    },
    {
      "cell_type": "markdown",
      "metadata": {
        "id": "KmE6PnkHwSz2"
      },
      "source": [
        "# **Daily,Monthly,Quarterly Returns**"
      ]
    },
    {
      "cell_type": "code",
      "metadata": {
        "id": "PkmtMIIGxG5V",
        "colab": {
          "base_uri": "https://localhost:8080/",
          "height": 472
        },
        "outputId": "13a93751-48ff-41ff-d369-2085af246604"
      },
      "source": [
        "def data_download(org,start,end):\n",
        "    from pandas_datareader import data as pdr\n",
        "    import yfinance as yf\n",
        "    yf.pdr_override()\n",
        "    df = pdr.get_data_yahoo(org, start=start, end=end)\n",
        "    return df\n",
        "\n",
        "\n",
        "def daily_returns(org,start,end):\n",
        "    df =data_download(org,start,end)\n",
        "    daily_close = df['Adj Close']\n",
        "    daily_pct_change = daily_close.pct_change()\n",
        "    daily_pct_change.fillna(0, inplace=True)\n",
        "    daily_log_returns = np.log(daily_close.pct_change() + 1)\n",
        "    daily_log_returns.fillna(0, inplace=True)\n",
        "    return daily_log_returns\n",
        "\n",
        "def monthly_returns(org,start,end):\n",
        "    df=data_download(org, start=start, end=end)\n",
        "    monthly = df.resample('BM').apply(lambda x: x[-1])\n",
        "    monthly_log_returns = np.log(monthly.pct_change() + 1)\n",
        "    return monthly_log_returns\n",
        "\n",
        "def quarterly_returns(org,start,end):\n",
        "    df=data_download(org, start=start, end=end)\n",
        "    quarter = df.resample(\"4M\").mean()\n",
        "    quarterly_log_returns = np.log(quarter.pct_change() + 1)\n",
        "    return quarterly_log_returns\n",
        "data_download(\"GOOG\",\"2016-01-01\",\"2019-02-02\")"
      ],
      "execution_count": null,
      "outputs": [
        {
          "output_type": "stream",
          "text": [
            "\r[*********************100%***********************]  1 of 1 completed\n"
          ],
          "name": "stdout"
        },
        {
          "output_type": "execute_result",
          "data": {
            "text/html": [
              "<div>\n",
              "<style scoped>\n",
              "    .dataframe tbody tr th:only-of-type {\n",
              "        vertical-align: middle;\n",
              "    }\n",
              "\n",
              "    .dataframe tbody tr th {\n",
              "        vertical-align: top;\n",
              "    }\n",
              "\n",
              "    .dataframe thead th {\n",
              "        text-align: right;\n",
              "    }\n",
              "</style>\n",
              "<table border=\"1\" class=\"dataframe\">\n",
              "  <thead>\n",
              "    <tr style=\"text-align: right;\">\n",
              "      <th></th>\n",
              "      <th>Open</th>\n",
              "      <th>High</th>\n",
              "      <th>Low</th>\n",
              "      <th>Close</th>\n",
              "      <th>Adj Close</th>\n",
              "      <th>Volume</th>\n",
              "    </tr>\n",
              "    <tr>\n",
              "      <th>Date</th>\n",
              "      <th></th>\n",
              "      <th></th>\n",
              "      <th></th>\n",
              "      <th></th>\n",
              "      <th></th>\n",
              "      <th></th>\n",
              "    </tr>\n",
              "  </thead>\n",
              "  <tbody>\n",
              "    <tr>\n",
              "      <th>2016-01-04</th>\n",
              "      <td>743.000000</td>\n",
              "      <td>744.059998</td>\n",
              "      <td>731.257996</td>\n",
              "      <td>741.840027</td>\n",
              "      <td>741.840027</td>\n",
              "      <td>3272800</td>\n",
              "    </tr>\n",
              "    <tr>\n",
              "      <th>2016-01-05</th>\n",
              "      <td>746.450012</td>\n",
              "      <td>752.000000</td>\n",
              "      <td>738.640015</td>\n",
              "      <td>742.580017</td>\n",
              "      <td>742.580017</td>\n",
              "      <td>1950700</td>\n",
              "    </tr>\n",
              "    <tr>\n",
              "      <th>2016-01-06</th>\n",
              "      <td>730.000000</td>\n",
              "      <td>747.179993</td>\n",
              "      <td>728.919983</td>\n",
              "      <td>743.619995</td>\n",
              "      <td>743.619995</td>\n",
              "      <td>1947000</td>\n",
              "    </tr>\n",
              "    <tr>\n",
              "      <th>2016-01-07</th>\n",
              "      <td>730.309998</td>\n",
              "      <td>738.500000</td>\n",
              "      <td>719.059998</td>\n",
              "      <td>726.390015</td>\n",
              "      <td>726.390015</td>\n",
              "      <td>2963700</td>\n",
              "    </tr>\n",
              "    <tr>\n",
              "      <th>2016-01-08</th>\n",
              "      <td>731.450012</td>\n",
              "      <td>733.229980</td>\n",
              "      <td>713.000000</td>\n",
              "      <td>714.469971</td>\n",
              "      <td>714.469971</td>\n",
              "      <td>2450900</td>\n",
              "    </tr>\n",
              "    <tr>\n",
              "      <th>...</th>\n",
              "      <td>...</td>\n",
              "      <td>...</td>\n",
              "      <td>...</td>\n",
              "      <td>...</td>\n",
              "      <td>...</td>\n",
              "      <td>...</td>\n",
              "    </tr>\n",
              "    <tr>\n",
              "      <th>2019-01-28</th>\n",
              "      <td>1080.109985</td>\n",
              "      <td>1083.000000</td>\n",
              "      <td>1063.800049</td>\n",
              "      <td>1070.079956</td>\n",
              "      <td>1070.079956</td>\n",
              "      <td>1284300</td>\n",
              "    </tr>\n",
              "    <tr>\n",
              "      <th>2019-01-29</th>\n",
              "      <td>1072.680054</td>\n",
              "      <td>1075.150024</td>\n",
              "      <td>1055.864990</td>\n",
              "      <td>1060.619995</td>\n",
              "      <td>1060.619995</td>\n",
              "      <td>1021800</td>\n",
              "    </tr>\n",
              "    <tr>\n",
              "      <th>2019-01-30</th>\n",
              "      <td>1068.430054</td>\n",
              "      <td>1091.000000</td>\n",
              "      <td>1066.849976</td>\n",
              "      <td>1089.060059</td>\n",
              "      <td>1089.060059</td>\n",
              "      <td>1279800</td>\n",
              "    </tr>\n",
              "    <tr>\n",
              "      <th>2019-01-31</th>\n",
              "      <td>1103.000000</td>\n",
              "      <td>1117.329956</td>\n",
              "      <td>1095.410034</td>\n",
              "      <td>1116.369995</td>\n",
              "      <td>1116.369995</td>\n",
              "      <td>1538300</td>\n",
              "    </tr>\n",
              "    <tr>\n",
              "      <th>2019-02-01</th>\n",
              "      <td>1112.400024</td>\n",
              "      <td>1125.000000</td>\n",
              "      <td>1104.890015</td>\n",
              "      <td>1110.750000</td>\n",
              "      <td>1110.750000</td>\n",
              "      <td>1462200</td>\n",
              "    </tr>\n",
              "  </tbody>\n",
              "</table>\n",
              "<p>776 rows × 6 columns</p>\n",
              "</div>"
            ],
            "text/plain": [
              "                   Open         High  ...    Adj Close   Volume\n",
              "Date                                  ...                      \n",
              "2016-01-04   743.000000   744.059998  ...   741.840027  3272800\n",
              "2016-01-05   746.450012   752.000000  ...   742.580017  1950700\n",
              "2016-01-06   730.000000   747.179993  ...   743.619995  1947000\n",
              "2016-01-07   730.309998   738.500000  ...   726.390015  2963700\n",
              "2016-01-08   731.450012   733.229980  ...   714.469971  2450900\n",
              "...                 ...          ...  ...          ...      ...\n",
              "2019-01-28  1080.109985  1083.000000  ...  1070.079956  1284300\n",
              "2019-01-29  1072.680054  1075.150024  ...  1060.619995  1021800\n",
              "2019-01-30  1068.430054  1091.000000  ...  1089.060059  1279800\n",
              "2019-01-31  1103.000000  1117.329956  ...  1116.369995  1538300\n",
              "2019-02-01  1112.400024  1125.000000  ...  1110.750000  1462200\n",
              "\n",
              "[776 rows x 6 columns]"
            ]
          },
          "metadata": {
            "tags": []
          },
          "execution_count": 19
        }
      ]
    },
    {
      "cell_type": "markdown",
      "metadata": {
        "id": "N9VyAfqPYYOb"
      },
      "source": [
        "# **Financial Ratios**"
      ]
    },
    {
      "cell_type": "code",
      "metadata": {
        "id": "ajMWMJp0h-x1"
      },
      "source": [
        " #EPS Ratio\n",
        "def eps(net_income,shares_outstanding):\n",
        "  return net_income/shares_outstanding\n",
        "\n",
        "#P/E Ratio\n",
        "def p_by_e(market_cap,net_income,shares_outstanding):\n",
        "  return market_cap/eps(net_income,shares_outstanding)\n",
        "p_by_e(2345543,12333324,234)\n",
        "\n",
        "#PEG Ratio\n",
        "def peg_ratio(market_cap,net_income,shares_outstanding,growth):\n",
        "  return p_by_e(market_cap, net_income, shares_outstanding)/growth\n",
        "\n",
        "#Market Value Per Share\n",
        "def mrkt_value_pershare(market_cap,net_income,shares_outstanding):\n",
        "  return p_by_e(market_cap, net_income, shares_outstanding)*eps(net_income,shares_outstanding)\n",
        "\n",
        "#Book Value Per Share\n",
        "def book_value_pershare(equity,shares_outstanding):\n",
        "  return equity/shares_outstanding\n",
        "  \n",
        "#Market to Book Ratio\n",
        "def mrkt_to_book(market_cap,net_income,shares_outstanding,equity):\n",
        "  return mrkt_value_pershare(market_cap,net_income,shares_outstanding)/book_value_pershare(equity,shares_outstanding)\n",
        "\n",
        "#Dividend pay out ratio\n",
        "def div_pay_out(dividend_per_share,net_income,shares_outstanding):\n",
        "  return dividend_per_share/eps(net_income,shares_outstanding)\n",
        "\n",
        "#Dividend Yield Ratio\n",
        "def div_yeild(dividend_per_share,market_cap,net_income,shares_outstanding):\n",
        "  return dividend_per_share/mrkt_value_pershare(market_cap,net_income,shares_outstanding)\n",
        "\n",
        "#Return On Assets\n",
        "def roa(net_income,total_assets):\n",
        "  return net_income/total_assets\n",
        "\n",
        "#Return on Equity\n",
        "def roe(net_income,avg_total_equity):\n",
        "  return net_income/avg_total_equity\n",
        "\n",
        "#Return on Sales\n",
        "def ros(net_income,net_sales):\n",
        "  return net_income/net_sales\n",
        "\n",
        "#Gross Profit Margin\n",
        "def gpa(gross_profit,net_sales):\n",
        "  return gross_profit/net_sales\n",
        "\n",
        "#Net Profit Margin\n",
        "def npm(net_income,total_tax,net_sales):\n",
        "  return (net_income-total_tax)/net_sales\n",
        "\n",
        "#Current Ratio\n",
        "def current(current_assets,current_liabilities):\n",
        "  return current_assets/current_liabilities\n",
        "\n",
        "#Acid Test Ratio\n",
        "def acid_test(quick_assets,current_liabilities):\n",
        "  return quick_assets/current_liabilities\n",
        "\n",
        "#Cash Ratio\n",
        "def cash_ratio(cash,securities,current_liabilities):\n",
        "  return (cash+securities)/current_liabilities\n",
        "\n",
        "#Recievable Turnover\n",
        "def recievable(net_credit_sales,avg_acc_recble):\n",
        "  return net_credit_sales/avg_acc_recble\n",
        "\n",
        "#Days Sales Outstanding\n",
        "def dso(net_credit_sales,avg_acc_recble):\n",
        "  return 360/recievable(net_credit_sales,avg_acc_recble)\n",
        "\n",
        "#Inventory Turnover\n",
        "def inventory(cost_of_sales,avg_inventory):\n",
        "  return cost_of_sales/avg_inventory\n",
        "\n",
        "#Days Inventory Outstanding\n",
        "def dio(cost_of_sales,avg_inventory):\n",
        "  return 360/inventory(cost_of_sales,avg_inventory)\n",
        "\n",
        "#Payable Turnover\n",
        "def payable(net_credit_purchase,avg_acc_payable):\n",
        "  return net_credit_purchase/avg_acc_payable\n",
        "\n",
        "#Days Payable Outstanding \n",
        "def dpo(net_credit_purchase,avg_acc_payable):\n",
        "  return 360/payable(net_credit_purchase,avg_acc_payable)\n",
        "\n",
        "#Cash Conversion Cycle\n",
        "def ccc(net_credit_sales,avg_acc_recble,cost_of_sales,avg_inventory,net_credit_purchase,avg_acc_payable):\n",
        "  return dso(net_credit_sales,avg_acc_recble)+dio(cost_of_sales,avg_inventory)-dpo(net_credit_purchase,avg_acc_payable)\n",
        "\n",
        "#Debt Ratio\n",
        "def debt_ratio(total_liabilities,total_assets):\n",
        "  return total_liabilities/total_assets\n",
        "\n",
        "#Equity Ratio\n",
        "def equity_ratio(total_equity,total_assets):\n",
        "  return total_equity/total_assets\n",
        "\n",
        "#Debt to Equity Ratio\n",
        "def debt_to_equity(total_liabilities,total_equity):\n",
        "  return total_liabilities/total_equity\n",
        "\n",
        "#Altman Z Score\n",
        "def altman(working_cap,retained_earnings,earning_before_tax,mrkt_valueof_equity,total_sales,total_liabilities,total_assets):\n",
        "  A=working_cap/total_assets\n",
        "  B=retained_earnings/total_assets\n",
        "  C=earning_before_tax/total_assets\n",
        "  D=mrkt_valueof_equity/total_liabilities\n",
        "  E=total_sales/total_assets\n",
        "  Zeta=1.2(A) + 1.4(B) + 3.3(C) + 0.6(D) + 1.0(E)\n",
        "  return Zeta\n",
        "\n",
        "\n",
        "#Beta of the market \n",
        "def beta(returns, market):\n",
        "    matrix = np.matrix([returns, market])\n",
        "    return np.cov(matrix)[0][1] / numpy.var(market)\n",
        "\n",
        "# Lower Partial momemnt\n",
        "def lpm(returns, threshold, order):\n",
        "    # This method returns a lower partial moment of the returns\n",
        "    # Create an array he same length as returns containing the minimum return threshold\n",
        "    threshold_array = numpy.empty(len(returns))\n",
        "    threshold_array.fill(threshold)\n",
        "    # Calculate the difference between the threshold and the returns\n",
        "    diff = threshold_array - returns\n",
        "    # Set the minimum of each to 0\n",
        "    diff = diff.clip(min=0)\n",
        "    # Return the sum of the different to the power of order\n",
        "    return numpy.sum(diff ** order) / len(returns)\n",
        "\n",
        "#Higher Partial Moment\n",
        "def hpm(returns, threshold, order):\n",
        "    # This method returns a higher partial moment of the returns\n",
        "    # Create an array he same length as returns containing the minimum return threshold\n",
        "    threshold_array = numpy.empty(len(returns))\n",
        "    threshold_array.fill(threshold)\n",
        "    # Calculate the difference between the returns and the threshold\n",
        "    diff = returns - threshold_array\n",
        "    # Set the minimum of each to 0\n",
        "    diff = diff.clip(min=0)\n",
        "    # Return the sum of the different to the power of order\n",
        "    return numpy.sum(diff ** order) / len(returns)\n",
        "\n",
        "\n",
        "#Treynor Ratio  \n",
        "def treynor_ratio(expected_return, returns, market, risk_free_rate):\n",
        "    return (expected_return - risk_free_rate) / beta(returns, market)\n",
        "\n",
        "#Sharpe Ratio\n",
        "def sharpe_ratio(er, returns, rf):\n",
        "    return (expected_return - risk_free_rate) / np.std(returns)\n",
        "\n",
        "#Information Ratio\n",
        "def information_ratio(returns, benchmark,tracking_error):\n",
        "  return (returns-benchmark)/tracking_error\n",
        "\n",
        "#Modigliani Ratio\n",
        "def modigliani_ratio(expected_return, returns, benchmark, risk_free_rate):\n",
        "    np_rf = np.empty(len(returns))\n",
        "    np_rf.fill(risk_free_rate)\n",
        "    rdiff = returns - np_rf\n",
        "    bdiff = benchmark - np_rf\n",
        "    return (expected_return - risk_free_rate) * (numpy.std(rdiff) / numpy.std(bdiff)) + risk_free_rate\n",
        "\n",
        "#Omega Ratio\n",
        "def omega_ratio(expected_return, returns, risk_free_rate, target=0):\n",
        "    return (expected_return - risk_free_rate) / lpm(returns, target, 1)\n",
        "\n",
        "#Sortino Ratio\n",
        "def sortino_ratio(expected_return, returns, risk_free_rate, target=0):\n",
        "    return (expected_return - risk_free_rate) / math.sqrt(lpm(returns, target, 2))\n",
        "\n",
        "#Kappa 3 Ratio\n",
        "def kappa_three_ratio(expected_return, returns, risk_free_rate, target=0):\n",
        "    return (expected_return - risk_free_rate) / math.pow(lpm(returns, target, 3), float(1)/3)\n",
        "\n",
        "#Gain loss ratio\n",
        "def gain_loss_ratio(returns, target=0):\n",
        "    return hpm(returns, target, 1) / lpm(returns, target, 1)\n",
        "\n",
        "#Upside Potential Ratio\n",
        "def upside_potential_ratio(returns, target=0):\n",
        "    return hpm(returns, target, 1) / math.sqrt(lpm(returns, target, 2))\n",
        "\n"
      ],
      "execution_count": null,
      "outputs": []
    }
  ]
}